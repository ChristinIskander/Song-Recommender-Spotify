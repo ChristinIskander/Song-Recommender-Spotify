{
 "cells": [
  {
   "cell_type": "markdown",
   "id": "e0502954",
   "metadata": {},
   "source": [
    "## Import Libraries"
   ]
  },
  {
   "cell_type": "code",
   "execution_count": 16,
   "id": "7f4f37a6",
   "metadata": {},
   "outputs": [],
   "source": [
    "import pandas as pd"
   ]
  },
  {
   "cell_type": "markdown",
   "id": "d4db28fd",
   "metadata": {},
   "source": [
    "## Loading Credentials"
   ]
  },
  {
   "cell_type": "code",
   "execution_count": 17,
   "id": "a52c7e2c",
   "metadata": {},
   "outputs": [],
   "source": [
    "import config"
   ]
  },
  {
   "cell_type": "markdown",
   "id": "7f5c3f81",
   "metadata": {},
   "source": [
    "## Starting with API "
   ]
  },
  {
   "cell_type": "code",
   "execution_count": 33,
   "id": "19a26ce7",
   "metadata": {},
   "outputs": [
    {
     "data": {
      "text/plain": [
       "{'tracks': {'href': 'https://api.spotify.com/v1/search?query=Lose+yourself&type=track&market=GB&offset=0&limit=1',\n",
       "  'items': [{'album': {'album_type': 'single',\n",
       "     'artists': [{'external_urls': {'spotify': 'https://open.spotify.com/artist/7dGJo4pcD2V6oG8kP0tJRR'},\n",
       "       'href': 'https://api.spotify.com/v1/artists/7dGJo4pcD2V6oG8kP0tJRR',\n",
       "       'id': '7dGJo4pcD2V6oG8kP0tJRR',\n",
       "       'name': 'Eminem',\n",
       "       'type': 'artist',\n",
       "       'uri': 'spotify:artist:7dGJo4pcD2V6oG8kP0tJRR'}],\n",
       "     'external_urls': {'spotify': 'https://open.spotify.com/album/1rfORa9iYmocEsnnZGMVC4'},\n",
       "     'href': 'https://api.spotify.com/v1/albums/1rfORa9iYmocEsnnZGMVC4',\n",
       "     'id': '1rfORa9iYmocEsnnZGMVC4',\n",
       "     'images': [{'height': 640,\n",
       "       'url': 'https://i.scdn.co/image/ab67616d0000b273b6ef2ebd34efb08cb76f6eec',\n",
       "       'width': 640},\n",
       "      {'height': 300,\n",
       "       'url': 'https://i.scdn.co/image/ab67616d00001e02b6ef2ebd34efb08cb76f6eec',\n",
       "       'width': 300},\n",
       "      {'height': 64,\n",
       "       'url': 'https://i.scdn.co/image/ab67616d00004851b6ef2ebd34efb08cb76f6eec',\n",
       "       'width': 64}],\n",
       "     'name': 'Just Lose It',\n",
       "     'release_date': '2004-01-01',\n",
       "     'release_date_precision': 'day',\n",
       "     'total_tracks': 2,\n",
       "     'type': 'album',\n",
       "     'uri': 'spotify:album:1rfORa9iYmocEsnnZGMVC4'},\n",
       "    'artists': [{'external_urls': {'spotify': 'https://open.spotify.com/artist/7dGJo4pcD2V6oG8kP0tJRR'},\n",
       "      'href': 'https://api.spotify.com/v1/artists/7dGJo4pcD2V6oG8kP0tJRR',\n",
       "      'id': '7dGJo4pcD2V6oG8kP0tJRR',\n",
       "      'name': 'Eminem',\n",
       "      'type': 'artist',\n",
       "      'uri': 'spotify:artist:7dGJo4pcD2V6oG8kP0tJRR'}],\n",
       "    'disc_number': 1,\n",
       "    'duration_ms': 322226,\n",
       "    'explicit': True,\n",
       "    'external_ids': {'isrc': 'USIR10211559'},\n",
       "    'external_urls': {'spotify': 'https://open.spotify.com/track/1v7L65Lzy0j0vdpRjJewt1'},\n",
       "    'href': 'https://api.spotify.com/v1/tracks/1v7L65Lzy0j0vdpRjJewt1',\n",
       "    'id': '1v7L65Lzy0j0vdpRjJewt1',\n",
       "    'is_local': False,\n",
       "    'is_playable': True,\n",
       "    'name': 'Lose Yourself - From \"8 Mile\" Soundtrack',\n",
       "    'popularity': 77,\n",
       "    'preview_url': None,\n",
       "    'track_number': 2,\n",
       "    'type': 'track',\n",
       "    'uri': 'spotify:track:1v7L65Lzy0j0vdpRjJewt1'}],\n",
       "  'limit': 1,\n",
       "  'next': 'https://api.spotify.com/v1/search?query=Lose+yourself&type=track&market=GB&offset=1&limit=1',\n",
       "  'offset': 0,\n",
       "  'previous': None,\n",
       "  'total': 4236}}"
      ]
     },
     "execution_count": 33,
     "metadata": {},
     "output_type": "execute_result"
    }
   ],
   "source": [
    "import spotipy\n",
    "import json\n",
    "from spotipy.oauth2 import SpotifyClientCredentials\n",
    "\n",
    "\n",
    "#Initialize SpotiPy with user credentias\n",
    "sp = spotipy.Spotify(auth_manager=SpotifyClientCredentials(client_id= config.client_id,\n",
    "                                                           client_secret= config.client_secret))\n",
    "\n",
    "# The \"sp\" variable has two useful funtions:\n",
    "# The first usefull function is:\n",
    "# .search(q='',limit=n)\n",
    "# .search(q=\"track:\"+song_name+\" artist:\"+artist_name,limit=5) to restrict to a song name and artist.\n",
    "# Where the \"q\" keyword is the query you want to perform on spotify: song_name, artist,...\n",
    "# while The \"limit\" keyword will limit the number of returned results.\n",
    "#\n",
    "# The second usefull function is:\n",
    "# .audio_features([URL|URI|ID])\n",
    "# which returns some 'features of the song', that after cleanup, we can use in order to characterize a song.\n",
    "\n",
    "results = sp.search(q=\"Lose yourself\",limit=1,market=\"GB\")\n",
    "results\n",
    "#json_results = json.dumps(results, ensure_ascii=True)\n",
    "#json_results\n",
    "#results['tracks']['items'][0]['external_urls'][\"spotify\"]"
   ]
  },
  {
   "cell_type": "markdown",
   "id": "75797ef6",
   "metadata": {},
   "source": [
    "## Creating a function for putting a play list into a DF"
   ]
  },
  {
   "cell_type": "code",
   "execution_count": 24,
   "id": "8ca1ae42",
   "metadata": {},
   "outputs": [],
   "source": [
    "def call_playlist(creator, playlist_id):\n",
    "\n",
    "#step1\n",
    "\n",
    "    playlist_features_list = [\"artist\",\"album\",\"track_name\",  \"track_id\",\"danceability\",\"energy\",\"key\",\"loudness\",\"mode\", \"speechiness\",\"instrumentalness\",\"liveness\",\"valence\",\"tempo\", \"duration_ms\",\"time_signature\"]\n",
    "    \n",
    "    playlist_df = pd.DataFrame(columns = playlist_features_list)\n",
    "    \n",
    "#step2\n",
    "    \n",
    "    playlist = sp.user_playlist_tracks(creator, playlist_id)[\"items\"]\n",
    "    for track in playlist:\n",
    "# Create empty dict\n",
    "        playlist_features = {}\n",
    "# Get metadata\n",
    "        playlist_features[\"artist\"] = track[\"track\"][\"album\"][\"artists\"][0][\"name\"]\n",
    "        playlist_features[\"album\"] = track[\"track\"][\"album\"][\"name\"]\n",
    "        playlist_features[\"track_name\"] = track[\"track\"][\"name\"]\n",
    "        playlist_features[\"track_id\"] = track[\"track\"][\"id\"]\n",
    "        \n",
    "# Get audio features\n",
    "        audio_features = sp.audio_features(playlist_features[\"track_id\"])[0]\n",
    "        for feature in playlist_features_list[4:]:\n",
    "            playlist_features[feature] = audio_features[feature]\n",
    "        \n",
    "# Concat the dfs\n",
    "        track_df = pd.DataFrame(playlist_features, index = [0])\n",
    "        playlist_df = pd.concat([playlist_df, track_df], ignore_index = True)\n",
    "\n",
    " #Step 3\n",
    "        \n",
    "    return playlist_df"
   ]
  },
  {
   "cell_type": "markdown",
   "id": "165bd137",
   "metadata": {},
   "source": [
    "## Choose a Playlist fro Spotify"
   ]
  },
  {
   "cell_type": "markdown",
   "id": "f127b087",
   "metadata": {},
   "source": [
    "## Call the List by the id"
   ]
  },
  {
   "cell_type": "code",
   "execution_count": 25,
   "id": "aa071682",
   "metadata": {},
   "outputs": [
    {
     "data": {
      "text/html": [
       "<div>\n",
       "<style scoped>\n",
       "    .dataframe tbody tr th:only-of-type {\n",
       "        vertical-align: middle;\n",
       "    }\n",
       "\n",
       "    .dataframe tbody tr th {\n",
       "        vertical-align: top;\n",
       "    }\n",
       "\n",
       "    .dataframe thead th {\n",
       "        text-align: right;\n",
       "    }\n",
       "</style>\n",
       "<table border=\"1\" class=\"dataframe\">\n",
       "  <thead>\n",
       "    <tr style=\"text-align: right;\">\n",
       "      <th></th>\n",
       "      <th>artist</th>\n",
       "      <th>album</th>\n",
       "      <th>track_name</th>\n",
       "      <th>track_id</th>\n",
       "      <th>danceability</th>\n",
       "      <th>energy</th>\n",
       "      <th>key</th>\n",
       "      <th>loudness</th>\n",
       "      <th>mode</th>\n",
       "      <th>speechiness</th>\n",
       "      <th>instrumentalness</th>\n",
       "      <th>liveness</th>\n",
       "      <th>valence</th>\n",
       "      <th>tempo</th>\n",
       "      <th>duration_ms</th>\n",
       "      <th>time_signature</th>\n",
       "    </tr>\n",
       "  </thead>\n",
       "  <tbody>\n",
       "    <tr>\n",
       "      <th>0</th>\n",
       "      <td>Taylor Swift</td>\n",
       "      <td>...Ready For It?</td>\n",
       "      <td>...Ready For It?</td>\n",
       "      <td>7zgqtptZvhf8GEmdsM2vp2</td>\n",
       "      <td>0.615</td>\n",
       "      <td>0.779</td>\n",
       "      <td>2</td>\n",
       "      <td>-6.454</td>\n",
       "      <td>1</td>\n",
       "      <td>0.135</td>\n",
       "      <td>0</td>\n",
       "      <td>0.155</td>\n",
       "      <td>0.453</td>\n",
       "      <td>160.0</td>\n",
       "      <td>208198</td>\n",
       "      <td>4</td>\n",
       "    </tr>\n",
       "    <tr>\n",
       "      <th>1</th>\n",
       "      <td>Thomas Rhett</td>\n",
       "      <td>Life Changes</td>\n",
       "      <td>Life Changes</td>\n",
       "      <td>4Vxu50qVrQcycjRyJQaZLC</td>\n",
       "      <td>0.687</td>\n",
       "      <td>0.845</td>\n",
       "      <td>7</td>\n",
       "      <td>-4.37</td>\n",
       "      <td>1</td>\n",
       "      <td>0.0576</td>\n",
       "      <td>0</td>\n",
       "      <td>0.0452</td>\n",
       "      <td>0.809</td>\n",
       "      <td>87.972</td>\n",
       "      <td>190227</td>\n",
       "      <td>4</td>\n",
       "    </tr>\n",
       "    <tr>\n",
       "      <th>2</th>\n",
       "      <td>Bruno Mars</td>\n",
       "      <td>24K Magic</td>\n",
       "      <td>24K Magic</td>\n",
       "      <td>6b8Be6ljOzmkOmFslEb23P</td>\n",
       "      <td>0.818</td>\n",
       "      <td>0.803</td>\n",
       "      <td>1</td>\n",
       "      <td>-4.282</td>\n",
       "      <td>1</td>\n",
       "      <td>0.0797</td>\n",
       "      <td>0</td>\n",
       "      <td>0.153</td>\n",
       "      <td>0.632</td>\n",
       "      <td>106.97</td>\n",
       "      <td>225983</td>\n",
       "      <td>4</td>\n",
       "    </tr>\n",
       "    <tr>\n",
       "      <th>3</th>\n",
       "      <td>Ed Sheeran</td>\n",
       "      <td>÷ (Deluxe)</td>\n",
       "      <td>Galway Girl</td>\n",
       "      <td>0afhq8XCExXpqazXczTSve</td>\n",
       "      <td>0.624</td>\n",
       "      <td>0.876</td>\n",
       "      <td>9</td>\n",
       "      <td>-3.374</td>\n",
       "      <td>1</td>\n",
       "      <td>0.1</td>\n",
       "      <td>0</td>\n",
       "      <td>0.327</td>\n",
       "      <td>0.781</td>\n",
       "      <td>99.943</td>\n",
       "      <td>170827</td>\n",
       "      <td>4</td>\n",
       "    </tr>\n",
       "    <tr>\n",
       "      <th>4</th>\n",
       "      <td>Ed Sheeran</td>\n",
       "      <td>x (Deluxe Edition)</td>\n",
       "      <td>Photograph</td>\n",
       "      <td>1HNkqx9Ahdgi1Ixy2xkKkL</td>\n",
       "      <td>0.614</td>\n",
       "      <td>0.379</td>\n",
       "      <td>4</td>\n",
       "      <td>-10.48</td>\n",
       "      <td>1</td>\n",
       "      <td>0.0476</td>\n",
       "      <td>0.000464</td>\n",
       "      <td>0.0986</td>\n",
       "      <td>0.201</td>\n",
       "      <td>107.989</td>\n",
       "      <td>258987</td>\n",
       "      <td>4</td>\n",
       "    </tr>\n",
       "    <tr>\n",
       "      <th>...</th>\n",
       "      <td>...</td>\n",
       "      <td>...</td>\n",
       "      <td>...</td>\n",
       "      <td>...</td>\n",
       "      <td>...</td>\n",
       "      <td>...</td>\n",
       "      <td>...</td>\n",
       "      <td>...</td>\n",
       "      <td>...</td>\n",
       "      <td>...</td>\n",
       "      <td>...</td>\n",
       "      <td>...</td>\n",
       "      <td>...</td>\n",
       "      <td>...</td>\n",
       "      <td>...</td>\n",
       "      <td>...</td>\n",
       "    </tr>\n",
       "    <tr>\n",
       "      <th>95</th>\n",
       "      <td>Iyaz</td>\n",
       "      <td>Replay</td>\n",
       "      <td>Replay</td>\n",
       "      <td>5vlEg2fT4cFWAqU5QptIpQ</td>\n",
       "      <td>0.706</td>\n",
       "      <td>0.751</td>\n",
       "      <td>9</td>\n",
       "      <td>-6.323</td>\n",
       "      <td>1</td>\n",
       "      <td>0.0708</td>\n",
       "      <td>0</td>\n",
       "      <td>0.168</td>\n",
       "      <td>0.195</td>\n",
       "      <td>91.031</td>\n",
       "      <td>182307</td>\n",
       "      <td>4</td>\n",
       "    </tr>\n",
       "    <tr>\n",
       "      <th>96</th>\n",
       "      <td>Taio Cruz</td>\n",
       "      <td>Rokstarr</td>\n",
       "      <td>Dynamite</td>\n",
       "      <td>1DqdF42leyFIzqNDv9CjId</td>\n",
       "      <td>0.754</td>\n",
       "      <td>0.804</td>\n",
       "      <td>4</td>\n",
       "      <td>-3.177</td>\n",
       "      <td>1</td>\n",
       "      <td>0.0853</td>\n",
       "      <td>0</td>\n",
       "      <td>0.0329</td>\n",
       "      <td>0.818</td>\n",
       "      <td>119.968</td>\n",
       "      <td>203867</td>\n",
       "      <td>4</td>\n",
       "    </tr>\n",
       "    <tr>\n",
       "      <th>97</th>\n",
       "      <td>Black Eyed Peas</td>\n",
       "      <td>THE E.N.D. (THE ENERGY NEVER DIES)</td>\n",
       "      <td>I Gotta Feeling</td>\n",
       "      <td>4vp2J1l5RD4gMZwGFLfRAu</td>\n",
       "      <td>0.743</td>\n",
       "      <td>0.766</td>\n",
       "      <td>0</td>\n",
       "      <td>-6.375</td>\n",
       "      <td>1</td>\n",
       "      <td>0.0265</td>\n",
       "      <td>0</td>\n",
       "      <td>0.509</td>\n",
       "      <td>0.61</td>\n",
       "      <td>127.96</td>\n",
       "      <td>289133</td>\n",
       "      <td>4</td>\n",
       "    </tr>\n",
       "    <tr>\n",
       "      <th>98</th>\n",
       "      <td>fun.</td>\n",
       "      <td>Some Nights</td>\n",
       "      <td>Some Nights</td>\n",
       "      <td>67WTwafOMgegV6ABnBQxcE</td>\n",
       "      <td>0.672</td>\n",
       "      <td>0.738</td>\n",
       "      <td>0</td>\n",
       "      <td>-7.045</td>\n",
       "      <td>1</td>\n",
       "      <td>0.0506</td>\n",
       "      <td>0.000068</td>\n",
       "      <td>0.0927</td>\n",
       "      <td>0.392</td>\n",
       "      <td>107.938</td>\n",
       "      <td>277040</td>\n",
       "      <td>4</td>\n",
       "    </tr>\n",
       "    <tr>\n",
       "      <th>99</th>\n",
       "      <td>Rupert Holmes</td>\n",
       "      <td>Partners In Crime</td>\n",
       "      <td>Escape (The Pina Colada Song)</td>\n",
       "      <td>5IMtdHjJ1OtkxbGe4zfUxQ</td>\n",
       "      <td>0.836</td>\n",
       "      <td>0.509</td>\n",
       "      <td>0</td>\n",
       "      <td>-13.668</td>\n",
       "      <td>1</td>\n",
       "      <td>0.0548</td>\n",
       "      <td>0.000004</td>\n",
       "      <td>0.0436</td>\n",
       "      <td>0.949</td>\n",
       "      <td>138.714</td>\n",
       "      <td>276493</td>\n",
       "      <td>4</td>\n",
       "    </tr>\n",
       "  </tbody>\n",
       "</table>\n",
       "<p>100 rows × 16 columns</p>\n",
       "</div>"
      ],
      "text/plain": [
       "             artist                               album  \\\n",
       "0      Taylor Swift                    ...Ready For It?   \n",
       "1      Thomas Rhett                        Life Changes   \n",
       "2        Bruno Mars                           24K Magic   \n",
       "3        Ed Sheeran                          ÷ (Deluxe)   \n",
       "4        Ed Sheeran                  x (Deluxe Edition)   \n",
       "..              ...                                 ...   \n",
       "95             Iyaz                              Replay   \n",
       "96        Taio Cruz                            Rokstarr   \n",
       "97  Black Eyed Peas  THE E.N.D. (THE ENERGY NEVER DIES)   \n",
       "98             fun.                         Some Nights   \n",
       "99    Rupert Holmes                   Partners In Crime   \n",
       "\n",
       "                       track_name                track_id danceability energy  \\\n",
       "0                ...Ready For It?  7zgqtptZvhf8GEmdsM2vp2        0.615  0.779   \n",
       "1                    Life Changes  4Vxu50qVrQcycjRyJQaZLC        0.687  0.845   \n",
       "2                       24K Magic  6b8Be6ljOzmkOmFslEb23P        0.818  0.803   \n",
       "3                     Galway Girl  0afhq8XCExXpqazXczTSve        0.624  0.876   \n",
       "4                      Photograph  1HNkqx9Ahdgi1Ixy2xkKkL        0.614  0.379   \n",
       "..                            ...                     ...          ...    ...   \n",
       "95                         Replay  5vlEg2fT4cFWAqU5QptIpQ        0.706  0.751   \n",
       "96                       Dynamite  1DqdF42leyFIzqNDv9CjId        0.754  0.804   \n",
       "97                I Gotta Feeling  4vp2J1l5RD4gMZwGFLfRAu        0.743  0.766   \n",
       "98                    Some Nights  67WTwafOMgegV6ABnBQxcE        0.672  0.738   \n",
       "99  Escape (The Pina Colada Song)  5IMtdHjJ1OtkxbGe4zfUxQ        0.836  0.509   \n",
       "\n",
       "   key loudness mode speechiness instrumentalness liveness valence    tempo  \\\n",
       "0    2   -6.454    1       0.135                0    0.155   0.453    160.0   \n",
       "1    7    -4.37    1      0.0576                0   0.0452   0.809   87.972   \n",
       "2    1   -4.282    1      0.0797                0    0.153   0.632   106.97   \n",
       "3    9   -3.374    1         0.1                0    0.327   0.781   99.943   \n",
       "4    4   -10.48    1      0.0476         0.000464   0.0986   0.201  107.989   \n",
       "..  ..      ...  ...         ...              ...      ...     ...      ...   \n",
       "95   9   -6.323    1      0.0708                0    0.168   0.195   91.031   \n",
       "96   4   -3.177    1      0.0853                0   0.0329   0.818  119.968   \n",
       "97   0   -6.375    1      0.0265                0    0.509    0.61   127.96   \n",
       "98   0   -7.045    1      0.0506         0.000068   0.0927   0.392  107.938   \n",
       "99   0  -13.668    1      0.0548         0.000004   0.0436   0.949  138.714   \n",
       "\n",
       "   duration_ms time_signature  \n",
       "0       208198              4  \n",
       "1       190227              4  \n",
       "2       225983              4  \n",
       "3       170827              4  \n",
       "4       258987              4  \n",
       "..         ...            ...  \n",
       "95      182307              4  \n",
       "96      203867              4  \n",
       "97      289133              4  \n",
       "98      277040              4  \n",
       "99      276493              4  \n",
       "\n",
       "[100 rows x 16 columns]"
      ]
     },
     "execution_count": 25,
     "metadata": {},
     "output_type": "execute_result"
    }
   ],
   "source": [
    "call_playlist(\"spotify\", \"5S8SJdl1BDc0ugpkEvFsIL\")"
   ]
  },
  {
   "cell_type": "markdown",
   "id": "e3cdb579",
   "metadata": {},
   "source": [
    "## Start All over"
   ]
  },
  {
   "cell_type": "markdown",
   "id": "757f13b3",
   "metadata": {},
   "source": [
    "#### Embed track player"
   ]
  },
  {
   "cell_type": "code",
   "execution_count": 39,
   "id": "fb155797",
   "metadata": {},
   "outputs": [],
   "source": [
    "from IPython.display import IFrame"
   ]
  },
  {
   "cell_type": "code",
   "execution_count": 44,
   "id": "5634ee68",
   "metadata": {},
   "outputs": [
    {
     "data": {
      "text/html": [
       "\n",
       "        <iframe\n",
       "            width=\"320\"\n",
       "            height=\"80\"\n",
       "            src=\"https://open.spotify.com/embed/track/1v7L65Lzy0j0vdpRjJewt1?frameborder=0&allowtransparency=true&allow=encrypted-media\"\n",
       "            frameborder=\"0\"\n",
       "            allowfullscreen\n",
       "            \n",
       "        ></iframe>\n",
       "        "
      ],
      "text/plain": [
       "<IPython.lib.display.IFrame at 0x7fdad85f9d90>"
      ]
     },
     "execution_count": 44,
     "metadata": {},
     "output_type": "execute_result"
    }
   ],
   "source": [
    "from IPython.display import IFrame\n",
    "\n",
    "track_id = \"1v7L65Lzy0j0vdpRjJewt1\"\n",
    "\n",
    "IFrame(src=\"https://open.spotify.com/embed/track/\"+track_id,\n",
    "       width=\"320\",\n",
    "       height=\"80\",\n",
    "       frameborder=\"0\",\n",
    "       allowtransparency=\"true\",\n",
    "       allow=\"encrypted-media\",)"
   ]
  },
  {
   "cell_type": "markdown",
   "id": "a239ca1d",
   "metadata": {},
   "source": [
    "## Navigate the Dict"
   ]
  },
  {
   "cell_type": "code",
   "execution_count": 40,
   "id": "f7c8699d",
   "metadata": {},
   "outputs": [
    {
     "data": {
      "text/plain": [
       "dict_keys(['tracks'])"
      ]
     },
     "execution_count": 40,
     "metadata": {},
     "output_type": "execute_result"
    }
   ],
   "source": [
    "results.keys()"
   ]
  },
  {
   "cell_type": "code",
   "execution_count": 41,
   "id": "0a6f17bf",
   "metadata": {},
   "outputs": [
    {
     "data": {
      "text/plain": [
       "dict_keys(['href', 'items', 'limit', 'next', 'offset', 'previous', 'total'])"
      ]
     },
     "execution_count": 41,
     "metadata": {},
     "output_type": "execute_result"
    }
   ],
   "source": [
    "results['tracks'].keys()"
   ]
  },
  {
   "cell_type": "code",
   "execution_count": 42,
   "id": "c844cbb6",
   "metadata": {},
   "outputs": [
    {
     "data": {
      "text/plain": [
       "dict_keys(['album', 'artists', 'disc_number', 'duration_ms', 'explicit', 'external_ids', 'external_urls', 'href', 'id', 'is_local', 'is_playable', 'name', 'popularity', 'preview_url', 'track_number', 'type', 'uri'])"
      ]
     },
     "execution_count": 42,
     "metadata": {},
     "output_type": "execute_result"
    }
   ],
   "source": [
    "results['tracks']['items'][0].keys()"
   ]
  },
  {
   "cell_type": "markdown",
   "id": "c565e9f5",
   "metadata": {},
   "source": [
    "## Get the track id"
   ]
  },
  {
   "cell_type": "code",
   "execution_count": 43,
   "id": "61c68d6b",
   "metadata": {},
   "outputs": [
    {
     "data": {
      "text/plain": [
       "'1v7L65Lzy0j0vdpRjJewt1'"
      ]
     },
     "execution_count": 43,
     "metadata": {},
     "output_type": "execute_result"
    }
   ],
   "source": [
    "results['tracks']['items'][0]['id']"
   ]
  },
  {
   "cell_type": "code",
   "execution_count": null,
   "id": "9627251f",
   "metadata": {},
   "outputs": [],
   "source": []
  }
 ],
 "metadata": {
  "kernelspec": {
   "display_name": "Python 3 (ipykernel)",
   "language": "python",
   "name": "python3"
  },
  "language_info": {
   "codemirror_mode": {
    "name": "ipython",
    "version": 3
   },
   "file_extension": ".py",
   "mimetype": "text/x-python",
   "name": "python",
   "nbconvert_exporter": "python",
   "pygments_lexer": "ipython3",
   "version": "3.9.7"
  },
  "toc": {
   "base_numbering": 1,
   "nav_menu": {},
   "number_sections": true,
   "sideBar": true,
   "skip_h1_title": false,
   "title_cell": "Table of Contents",
   "title_sidebar": "Contents",
   "toc_cell": false,
   "toc_position": {
    "height": "calc(100% - 180px)",
    "left": "10px",
    "top": "150px",
    "width": "165px"
   },
   "toc_section_display": true,
   "toc_window_display": false
  }
 },
 "nbformat": 4,
 "nbformat_minor": 5
}
